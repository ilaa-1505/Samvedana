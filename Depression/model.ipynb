{
 "cells": [
  {
   "cell_type": "code",
   "execution_count": null,
   "metadata": {},
   "outputs": [],
   "source": [
    "import numpy as np\n",
    "import pandas as pd\n",
    "from matplotlib import pyplot as plt\n",
    "import seaborn as sns"
   ]
  },
  {
   "cell_type": "code",
   "execution_count": null,
   "metadata": {},
   "outputs": [],
   "source": [
    "SEED = 42\n",
    "pd.set_option(\"display.max_columns\", None)"
   ]
  },
  {
   "cell_type": "code",
   "execution_count": null,
   "metadata": {},
   "outputs": [],
   "source": [
    "data = pd.read_csv(\"data.csv\", delimiter=\"\\t\")\n",
    "data"
   ]
  },
  {
   "cell_type": "code",
   "execution_count": null,
   "metadata": {},
   "outputs": [],
   "source": [
    "data.shape"
   ]
  },
  {
   "cell_type": "markdown",
   "metadata": {},
   "source": [
    "### Remove these features as they are extra information collected with the survey and has no effect to person for being depressed\n",
    "* QxE\n",
    "* QxI\n",
    "* introelapse\n",
    "* testelapse\n",
    "* surveyelapse\n",
    "* engnat\n",
    "* hand\n",
    "* orientation\n",
    "* voted\n",
    "* screensize\n",
    "* uniquenetworklocation\n",
    "* source\n",
    "* VCLx\n",
    "* country"
   ]
  },
  {
   "cell_type": "code",
   "execution_count": null,
   "metadata": {},
   "outputs": [],
   "source": [
    "removedFeatures = [f\"Q{i}E\" for i in range(1, 43)]\n",
    "removedFeatures.extend([f\"Q{i}I\" for i in range(1, 43)])\n",
    "removedFeatures.extend([f\"VCL{i}\" for i in range(1, 17)])\n",
    "removedFeatures.extend(\n",
    "    [\n",
    "        \"source\",\n",
    "        \"introelapse\",\n",
    "        \"testelapse\",\n",
    "        \"surveyelapse\",\n",
    "        \"engnat\",\n",
    "        \"hand\",\n",
    "        \"orientation\",\n",
    "        \"voted\",\n",
    "        \"country\",\n",
    "        \"screensize\",\n",
    "        \"uniquenetworklocation\",\n",
    "    ]\n",
    ")\n",
    "depression = data.drop(removedFeatures, axis=1)\n",
    "depression.to_csv(\"depression.csv\", index=False)"
   ]
  },
  {
   "cell_type": "markdown",
   "metadata": {},
   "source": [
    "## MODIFIED DATASET"
   ]
  },
  {
   "cell_type": "code",
   "execution_count": null,
   "metadata": {},
   "outputs": [],
   "source": [
    "import numpy as np\n",
    "import pandas as pd\n",
    "from matplotlib import pyplot as plt\n",
    "import seaborn as sns\n",
    "\n",
    "depression = pd.read_csv(\"depression.csv\")\n",
    "depression.head()"
   ]
  },
  {
   "cell_type": "markdown",
   "metadata": {},
   "source": [
    "## NULL VALUES\n",
    "\n",
    "Only \"Major\" column has null values"
   ]
  },
  {
   "cell_type": "code",
   "execution_count": null,
   "metadata": {},
   "outputs": [],
   "source": [
    "plt.style.use(\"seaborn-v0_8\")\n",
    "missing_values = depression.isnull().sum()\n",
    "missing_values_nonzero = missing_values[missing_values > 0]\n",
    "plt.bar(missing_values_nonzero.index, missing_values_nonzero.values)\n",
    "plt.ylabel(\"Number of Missing Values\")\n",
    "plt.title(\"Missing Values in Columns\")\n",
    "plt.show()"
   ]
  },
  {
   "cell_type": "markdown",
   "metadata": {},
   "source": [
    "## Education\n",
    "\n",
    "Analysis "
   ]
  },
  {
   "cell_type": "code",
   "execution_count": null,
   "metadata": {},
   "outputs": [],
   "source": [
    "depression[\"education\"] = depression[\"education\"].map({0: 1, 1: 1, 2: 2, 3: 3, 4: 4})\n",
    "\n",
    "\n",
    "def changeEducationTitle(title) -> str:\n",
    "    if title == 0 or title == 1:\n",
    "        return \"Less than high school\"\n",
    "    if title == 2:\n",
    "        return \"High school\"\n",
    "    if title == 3:\n",
    "        return \"University degree\"\n",
    "    if title == 4:\n",
    "        return \"Graduate degree\"\n",
    "    return title\n",
    "\n",
    "\n",
    "education_string = depression[\"education\"].apply(changeEducationTitle)\n",
    "\n",
    "plt.figure(figsize=(10, 5))\n",
    "sns.countplot(x=depression[\"education\"], hue=education_string)\n",
    "plt.show()"
   ]
  },
  {
   "cell_type": "markdown",
   "metadata": {},
   "source": [
    "### Major has null values and has no effect for person being depressed or not"
   ]
  },
  {
   "cell_type": "code",
   "execution_count": null,
   "metadata": {},
   "outputs": [],
   "source": [
    "depression.drop(\"major\", inplace=True, axis=1)"
   ]
  },
  {
   "cell_type": "markdown",
   "metadata": {},
   "source": [
    "## Urban\n",
    "\n",
    "Analysis"
   ]
  },
  {
   "cell_type": "code",
   "execution_count": null,
   "metadata": {},
   "outputs": [],
   "source": [
    "depression[\"urban\"] = depression[\"urban\"].map({0: 3, 1: 1, 2: 2, 3: 3})\n",
    "\n",
    "\n",
    "def changeUrbanValues(value):\n",
    "    if value == 1:\n",
    "        return \"Rural (country side)\"\n",
    "    if value == 2:\n",
    "        return \"Suburban\"\n",
    "    if value == 3:\n",
    "        return \"Urban (town, city)\"\n",
    "    return value\n",
    "\n",
    "\n",
    "urban = depression[\"urban\"].apply(changeUrbanValues)\n",
    "\n",
    "plt.figure(figsize=(10, 5))\n",
    "sns.countplot(x=depression[\"urban\"], hue=urban)\n",
    "plt.show()"
   ]
  },
  {
   "cell_type": "markdown",
   "metadata": {},
   "source": [
    "## Gender\n",
    "\n",
    "Analysis\n"
   ]
  },
  {
   "cell_type": "code",
   "execution_count": null,
   "metadata": {},
   "outputs": [],
   "source": [
    "depression[\"gender\"] = depression[\"gender\"].map({0: 2, 1: 1, 2: 2, 3: 3})\n",
    "\n",
    "\n",
    "def changeGenderValue(value):\n",
    "    if value == 1:\n",
    "        return \"Male\"\n",
    "    if value == 2 or value == 0:\n",
    "        return \"Female\"\n",
    "    return \"Other\"\n",
    "\n",
    "\n",
    "gender = depression[\"gender\"].apply(changeGenderValue)\n",
    "\n",
    "plt.figure(figsize=(10, 5))\n",
    "sns.countplot(x=depression[\"gender\"], hue=gender)\n",
    "plt.show()"
   ]
  },
  {
   "cell_type": "markdown",
   "metadata": {},
   "source": [
    "## Religion \n",
    "\n",
    "Analysis"
   ]
  },
  {
   "cell_type": "code",
   "execution_count": null,
   "metadata": {},
   "outputs": [],
   "source": [
    "def updateEducationValue(value):\n",
    "    if value == 0:\n",
    "        return 12\n",
    "    return value\n",
    "\n",
    "\n",
    "depression[\"religion\"] = depression[\"religion\"].apply(updateEducationValue)\n",
    "\n",
    "\n",
    "def changeReliginValues(value) -> str:\n",
    "    if value == 0:\n",
    "        return \"Other\"\n",
    "    if value == 1:\n",
    "        return \"Agnostic\"\n",
    "    if value == 2:\n",
    "        return \"Atheist\"\n",
    "    if value == 3:\n",
    "        return \"Buddhist\"\n",
    "    if value == 4:\n",
    "        return \"Christian (Catholic)\"\n",
    "    if value == 5:\n",
    "        return \"Christian (Mormon)\"\n",
    "    if value == 6:\n",
    "        return \"Christian (Protestant)\"\n",
    "    if value == 7:\n",
    "        return \"Christian (Other)\"\n",
    "    if value == 8:\n",
    "        return \"Hindu\"\n",
    "    if value == 9:\n",
    "        return \"Jewish\"\n",
    "    if value == 10:\n",
    "        return \"Muslim\"\n",
    "    if value == 11:\n",
    "        return \"Sikh\"\n",
    "    if value == 12:\n",
    "        return \"Other\"\n",
    "    return value\n",
    "\n",
    "\n",
    "religin = depression[\"religion\"].apply(changeReliginValues)\n",
    "display(depression[\"religion\"].value_counts())\n",
    "\n",
    "plt.figure(figsize=(10, 5))\n",
    "sns.countplot(x=depression[\"religion\"], hue=religin)\n",
    "plt.show()"
   ]
  },
  {
   "cell_type": "markdown",
   "metadata": {},
   "source": [
    "## Race\n",
    "\n",
    "Analysis"
   ]
  },
  {
   "cell_type": "code",
   "execution_count": null,
   "metadata": {},
   "outputs": [],
   "source": [
    "depression[\"race\"] = depression[\"race\"].apply(lambda x: x / 10)\n",
    "depression[\"race\"].head()\n",
    "\n",
    "\n",
    "def changeRaceValues(value) -> str:\n",
    "    if value == 1:\n",
    "        return \"Asian\"\n",
    "    if value == 2:\n",
    "        return \"Arab\"\n",
    "    if value == 3:\n",
    "        return \"Black\"\n",
    "    if value == 4:\n",
    "        return \"Indigenous Australian\"\n",
    "    if value == 5:\n",
    "        return \"Native American\"\n",
    "    if value == 6:\n",
    "        return \"White\"\n",
    "    if value == 7:\n",
    "        return \"Other\"\n",
    "\n",
    "    return value\n",
    "\n",
    "\n",
    "race = depression[\"race\"].apply(changeRaceValues)\n",
    "\n",
    "display(depression[\"race\"].value_counts())\n",
    "\n",
    "plt.figure(figsize=(10, 5))\n",
    "sns.countplot(x=depression[\"race\"], hue=race)\n",
    "plt.show()"
   ]
  },
  {
   "cell_type": "markdown",
   "metadata": {},
   "source": [
    "## Personality \n",
    "\n",
    "Analysis\n"
   ]
  },
  {
   "cell_type": "markdown",
   "metadata": {},
   "source": [
    "#### Extraverted and Enthusiastic"
   ]
  },
  {
   "cell_type": "code",
   "execution_count": null,
   "metadata": {},
   "outputs": [],
   "source": [
    "def changeFromToinTIPI(value, From, to):\n",
    "    if value == From:\n",
    "        return to\n",
    "    return value\n",
    "\n",
    "\n",
    "depression[\"TIPI1\"] = depression[\"TIPI1\"].apply(\n",
    "    lambda value: changeFromToinTIPI(value, 0, 5)\n",
    ")\n",
    "\n",
    "\n",
    "def changeTIPIValues(value):\n",
    "    if value == 1:\n",
    "        return \"Disagree strongly\"\n",
    "    if value == 2:\n",
    "        return \"Disagree moderately\"\n",
    "    if value == 3:\n",
    "        return \"Disagree a little\"\n",
    "    if value == 4:\n",
    "        return \"Neither agree nor disagree\"\n",
    "    if value == 5:\n",
    "        return \"Agree a little\"\n",
    "    if value == 6:\n",
    "        return \"Agree moderately\"\n",
    "    if value == 7:\n",
    "        return \"Agree strongly\"\n",
    "\n",
    "    return value\n",
    "\n",
    "\n",
    "tipi = depression[\"TIPI1\"].apply(changeTIPIValues)\n",
    "\n",
    "\n",
    "plt.figure(figsize=(10, 5))\n",
    "sns.countplot(x=depression[\"TIPI1\"], hue=tipi)\n",
    "\n",
    "plt.show()"
   ]
  },
  {
   "cell_type": "markdown",
   "metadata": {},
   "source": [
    "### Critical and Quarrelsome"
   ]
  },
  {
   "cell_type": "code",
   "execution_count": null,
   "metadata": {},
   "outputs": [],
   "source": [
    "depression[\"TIPI2\"] = depression[\"TIPI2\"].apply(\n",
    "    lambda value: changeFromToinTIPI(value, 0, 5)\n",
    ")\n",
    "\n",
    "tipi = depression[\"TIPI2\"].apply(changeTIPIValues)\n",
    "\n",
    "plt.figure(figsize=(10, 5))\n",
    "sns.countplot(x=depression[\"TIPI2\"], hue=tipi)\n",
    "plt.show()"
   ]
  },
  {
   "cell_type": "markdown",
   "metadata": {},
   "source": [
    "### Dependable and Self-disciplined."
   ]
  },
  {
   "cell_type": "code",
   "execution_count": null,
   "metadata": {},
   "outputs": [],
   "source": [
    "depression[\"TIPI3\"] = depression[\"TIPI3\"].apply(\n",
    "    lambda value: changeFromToinTIPI(value, 0, 6)\n",
    ")\n",
    "\n",
    "tipi = depression[\"TIPI3\"].apply(changeTIPIValues)\n",
    "\n",
    "plt.figure(figsize=(10, 5))\n",
    "sns.countplot(x=depression[\"TIPI3\"], hue=tipi)\n",
    "plt.show()"
   ]
  },
  {
   "cell_type": "markdown",
   "metadata": {},
   "source": [
    "### Anxious and Easily Upset"
   ]
  },
  {
   "cell_type": "code",
   "execution_count": null,
   "metadata": {},
   "outputs": [],
   "source": [
    "depression[\"TIPI4\"] = depression[\"TIPI4\"].apply(\n",
    "    lambda value: changeFromToinTIPI(value, 0, 6)\n",
    ")\n",
    "\n",
    "tipi = depression[\"TIPI4\"].apply(changeTIPIValues)\n",
    "\n",
    "plt.figure(figsize=(10, 5))\n",
    "sns.countplot(x=depression[\"TIPI4\"], hue=tipi)\n",
    "plt.show()"
   ]
  },
  {
   "cell_type": "markdown",
   "metadata": {},
   "source": [
    "### Open to new experiences and complex"
   ]
  },
  {
   "cell_type": "code",
   "execution_count": null,
   "metadata": {},
   "outputs": [],
   "source": [
    "depression[\"TIPI5\"] = depression[\"TIPI5\"].apply(\n",
    "    lambda value: changeFromToinTIPI(value, 0, 6)\n",
    ")\n",
    "\n",
    "tipi = depression[\"TIPI5\"].apply(changeTIPIValues)\n",
    "\n",
    "plt.figure(figsize=(10, 5))\n",
    "sns.countplot(x=depression[\"TIPI5\"], hue=tipi)\n",
    "plt.show()"
   ]
  },
  {
   "cell_type": "markdown",
   "metadata": {},
   "source": [
    "### Reserved and quiet"
   ]
  },
  {
   "cell_type": "code",
   "execution_count": null,
   "metadata": {},
   "outputs": [],
   "source": [
    "depression[\"TIPI6\"] = depression[\"TIPI6\"].apply(\n",
    "    lambda value: changeFromToinTIPI(value, 0, 7)\n",
    ")\n",
    "\n",
    "tipi = depression[\"TIPI6\"].apply(changeTIPIValues)\n",
    "\n",
    "plt.figure(figsize=(10, 5))\n",
    "sns.countplot(x=depression[\"TIPI6\"], hue=tipi)\n",
    "plt.show()"
   ]
  },
  {
   "cell_type": "markdown",
   "metadata": {},
   "source": [
    "### Sympathetic and Warm"
   ]
  },
  {
   "cell_type": "code",
   "execution_count": null,
   "metadata": {},
   "outputs": [],
   "source": [
    "depression[\"TIPI7\"] = depression[\"TIPI7\"].apply(\n",
    "    lambda value: changeFromToinTIPI(value, 0, 7)\n",
    ")\n",
    "\n",
    "tipi = depression[\"TIPI7\"].apply(changeTIPIValues)\n",
    "\n",
    "plt.figure(figsize=(10, 5))\n",
    "sns.countplot(x=depression[\"TIPI7\"], hue=tipi)\n",
    "plt.show()"
   ]
  },
  {
   "cell_type": "markdown",
   "metadata": {},
   "source": [
    "### Disorganized and Careless"
   ]
  },
  {
   "cell_type": "code",
   "execution_count": null,
   "metadata": {},
   "outputs": [],
   "source": [
    "depression[\"TIPI8\"] = depression[\"TIPI8\"].apply(\n",
    "    lambda value: changeFromToinTIPI(value, 0, 7)\n",
    ")\n",
    "\n",
    "tipi = depression[\"TIPI8\"].apply(changeTIPIValues)\n",
    "\n",
    "plt.figure(figsize=(10, 5))\n",
    "sns.countplot(x=depression[\"TIPI8\"], hue=tipi)\n",
    "plt.show()"
   ]
  },
  {
   "cell_type": "markdown",
   "metadata": {},
   "source": [
    "### Calm and Emotionally stable"
   ]
  },
  {
   "cell_type": "code",
   "execution_count": null,
   "metadata": {},
   "outputs": [],
   "source": [
    "depression[\"TIPI9\"] = depression[\"TIPI9\"].apply(\n",
    "    lambda value: changeFromToinTIPI(value, 0, 7)\n",
    ")\n",
    "\n",
    "tipi = depression[\"TIPI9\"].apply(changeTIPIValues)\n",
    "\n",
    "plt.figure(figsize=(10, 5))\n",
    "sns.countplot(x=depression[\"TIPI9\"], hue=tipi)\n",
    "plt.show()"
   ]
  },
  {
   "cell_type": "markdown",
   "metadata": {},
   "source": [
    "### Conventional and Uncreative"
   ]
  },
  {
   "cell_type": "code",
   "execution_count": null,
   "metadata": {},
   "outputs": [],
   "source": [
    "depression[\"TIPI10\"] = depression[\"TIPI10\"].apply(\n",
    "    lambda value: changeFromToinTIPI(value, 0, 7)\n",
    ")\n",
    "\n",
    "tipi = depression[\"TIPI10\"].apply(changeTIPIValues)\n",
    "\n",
    "plt.figure(figsize=(10, 5))\n",
    "sns.countplot(x=depression[\"TIPI10\"], hue=tipi)\n",
    "plt.show()"
   ]
  },
  {
   "cell_type": "markdown",
   "metadata": {},
   "source": [
    "### Family Size \n",
    "\n",
    "* Analysis\n",
    "* It seems that there are outliers, so we'll remove records that has familysize more than 13"
   ]
  },
  {
   "cell_type": "code",
   "execution_count": null,
   "metadata": {},
   "outputs": [],
   "source": [
    "plt.figure(figsize=(10, 5))\n",
    "sns.histplot(x=depression[\"familysize\"])\n",
    "plt.show()"
   ]
  },
  {
   "cell_type": "code",
   "execution_count": null,
   "metadata": {},
   "outputs": [],
   "source": [
    "indexes = depression[depression[\"familysize\"] > 13].index\n",
    "\n",
    "print(f\"Depression size before: {depression.shape[0]}\")\n",
    "depression = depression.drop(indexes, axis=0)\n",
    "print(f\"Depression size after: {depression.shape[0]}\")\n",
    "plt.figure(figsize=(10, 5))\n",
    "sns.histplot(x=depression[\"familysize\"])\n",
    "plt.show()"
   ]
  },
  {
   "cell_type": "markdown",
   "metadata": {},
   "source": [
    "## Married\n",
    "\n",
    "Analysis\n"
   ]
  },
  {
   "cell_type": "code",
   "execution_count": null,
   "metadata": {},
   "outputs": [],
   "source": [
    "def change0to1inMarried(value):\n",
    "    if value == 0:\n",
    "        return 1\n",
    "    return value\n",
    "\n",
    "\n",
    "depression[\"married\"] = depression[\"married\"].apply(change0to1inMarried)\n",
    "\n",
    "\n",
    "def changeMarriedValueToString(value):\n",
    "    if value == 1:\n",
    "        return \"Never married\"\n",
    "    if value == 2:\n",
    "        return \"Currently married\"\n",
    "    if value == 3:\n",
    "        return \"Previously married\"\n",
    "    return value\n",
    "\n",
    "\n",
    "married = depression[\"married\"].apply(changeMarriedValueToString)\n",
    "\n",
    "plt.figure(figsize=(10, 5))\n",
    "sns.countplot(x=depression[\"married\"], hue=married)\n",
    "plt.show()"
   ]
  },
  {
   "cell_type": "markdown",
   "metadata": {},
   "source": [
    "## Age\n",
    "\n",
    "Analysis\n"
   ]
  },
  {
   "cell_type": "code",
   "execution_count": null,
   "metadata": {},
   "outputs": [],
   "source": [
    "display(depression[\"age\"].value_counts())\n",
    "plt.figure(figsize=(10, 5))\n",
    "sns.histplot(x=depression[\"age\"])\n",
    "plt.show()"
   ]
  },
  {
   "cell_type": "code",
   "execution_count": null,
   "metadata": {},
   "outputs": [],
   "source": [
    "age_indexes = depression[depression[\"age\"] > 80][\"age\"].index\n",
    "\n",
    "display(age_indexes)\n",
    "\n",
    "print(f\"Depression size before: {depression.shape[0]}\")\n",
    "depression.drop(age_indexes, axis=0, inplace=True)\n",
    "print(f\"Depression size after: {depression.shape[0]}\")\n",
    "sns.histplot(x=depression[\"age\"])\n",
    "plt.show()"
   ]
  },
  {
   "cell_type": "code",
   "execution_count": null,
   "metadata": {},
   "outputs": [],
   "source": [
    "def makeAgeGroup(value):\n",
    "    if value <= 10:\n",
    "        return \"Under 10\"\n",
    "    if 10 <= value <= 16:\n",
    "        return \"Primary Children\"\n",
    "    if 17 <= value <= 21:\n",
    "        return \"Secondary Children\"\n",
    "    if 21 <= value <= 35:\n",
    "        return \"Adults\"\n",
    "    if 36 <= value <= 48:\n",
    "        return \"Elder Adults\"\n",
    "    if value >= 49:\n",
    "        return \"Older People\"\n",
    "\n",
    "\n",
    "age = depression[\"age\"].apply(makeAgeGroup)\n",
    "\n",
    "plt.figure(figsize=(18, 7))\n",
    "sns.countplot(x=depression[\"age\"], hue=age)\n",
    "plt.show()"
   ]
  },
  {
   "cell_type": "code",
   "execution_count": null,
   "metadata": {},
   "outputs": [],
   "source": [
    "def makeAgeGroupFeature(value):\n",
    "    if value <= 10:\n",
    "        return 1\n",
    "    if 10 <= value <= 16:\n",
    "        return 2\n",
    "    if 17 <= value <= 21:\n",
    "        return 3\n",
    "    if 21 <= value <= 35:\n",
    "        return 4\n",
    "    if 36 <= value <= 48:\n",
    "        return 5\n",
    "    if value >= 49:\n",
    "        return 6\n",
    "\n",
    "\n",
    "depression[\"age_group\"] = depression[\"age\"].apply(makeAgeGroupFeature)\n",
    "\n",
    "depression.drop(\"age\", axis=1, inplace=True)"
   ]
  },
  {
   "cell_type": "markdown",
   "metadata": {},
   "source": [
    "## DEPENDENT VARIABLE "
   ]
  },
  {
   "cell_type": "code",
   "execution_count": null,
   "metadata": {},
   "outputs": [],
   "source": [
    "pd.set_option(\"display.max_columns\", None)\n",
    "pd.set_option(\"display.max_rows\", None)\n",
    "depression[\"total_count\"] = depression.sum(axis=1)\n",
    "depression[\"total_count\"].describe()"
   ]
  },
  {
   "cell_type": "code",
   "execution_count": null,
   "metadata": {},
   "outputs": [],
   "source": [
    "plt.figure(figsize=(12, 6))\n",
    "sns.histplot(x=depression[\"total_count\"])\n",
    "plt.show()\n",
    "depression.head()"
   ]
  },
  {
   "cell_type": "code",
   "execution_count": null,
   "metadata": {},
   "outputs": [],
   "source": [
    "depression[\"total_count\"].describe()"
   ]
  },
  {
   "cell_type": "code",
   "execution_count": null,
   "metadata": {},
   "outputs": [],
   "source": [
    "depression[depression[\"total_count\"] < 170][\"total_count\"].describe()"
   ]
  },
  {
   "cell_type": "code",
   "execution_count": null,
   "metadata": {},
   "outputs": [],
   "source": [
    "depression[depression[\"total_count\"] < 147][\"total_count\"].describe()"
   ]
  },
  {
   "cell_type": "code",
   "execution_count": null,
   "metadata": {},
   "outputs": [],
   "source": [
    "depression[depression[\"total_count\"] > 170][\"total_count\"].describe()"
   ]
  },
  {
   "cell_type": "code",
   "execution_count": null,
   "metadata": {},
   "outputs": [],
   "source": [
    "def buildTargetMove15Steps(value):\n",
    "    if value <= 143:\n",
    "        return \"Normal\"\n",
    "    if 143 < value <= 157:\n",
    "        return \"Mild\"\n",
    "    if 157 < value <= 180:\n",
    "        return \"Moderate\"\n",
    "    if 180 < value <= 204:\n",
    "        return \"Severe\"\n",
    "    if value > 204:\n",
    "        return \"Extremely Severe\"\n",
    "\n",
    "\n",
    "depression[\"target\"] = depression[\"total_count\"].apply(buildTargetMove15Steps)\n",
    "\n",
    "plt.figure(figsize=(10, 5))\n",
    "sns.countplot(x=depression[\"target\"])\n",
    "plt.show()"
   ]
  },
  {
   "cell_type": "code",
   "execution_count": null,
   "metadata": {},
   "outputs": [],
   "source": [
    "print(depression.head())"
   ]
  },
  {
   "cell_type": "code",
   "execution_count": null,
   "metadata": {},
   "outputs": [],
   "source": [
    "depression.to_csv(\"final.csv\", index=False)"
   ]
  },
  {
   "cell_type": "code",
   "execution_count": 2,
   "metadata": {},
   "outputs": [
    {
     "data": {
      "text/html": [
       "<div>\n",
       "<style scoped>\n",
       "    .dataframe tbody tr th:only-of-type {\n",
       "        vertical-align: middle;\n",
       "    }\n",
       "\n",
       "    .dataframe tbody tr th {\n",
       "        vertical-align: top;\n",
       "    }\n",
       "\n",
       "    .dataframe thead th {\n",
       "        text-align: right;\n",
       "    }\n",
       "</style>\n",
       "<table border=\"1\" class=\"dataframe\">\n",
       "  <thead>\n",
       "    <tr style=\"text-align: right;\">\n",
       "      <th></th>\n",
       "      <th>Q1A</th>\n",
       "      <th>Q2A</th>\n",
       "      <th>Q3A</th>\n",
       "      <th>Q4A</th>\n",
       "      <th>Q5A</th>\n",
       "      <th>Q6A</th>\n",
       "      <th>Q7A</th>\n",
       "      <th>Q8A</th>\n",
       "      <th>Q9A</th>\n",
       "      <th>Q10A</th>\n",
       "      <th>...</th>\n",
       "      <th>education</th>\n",
       "      <th>urban</th>\n",
       "      <th>gender</th>\n",
       "      <th>religion</th>\n",
       "      <th>race</th>\n",
       "      <th>married</th>\n",
       "      <th>familysize</th>\n",
       "      <th>age_group</th>\n",
       "      <th>total_count</th>\n",
       "      <th>target</th>\n",
       "    </tr>\n",
       "  </thead>\n",
       "  <tbody>\n",
       "    <tr>\n",
       "      <th>0</th>\n",
       "      <td>4</td>\n",
       "      <td>4</td>\n",
       "      <td>2</td>\n",
       "      <td>4</td>\n",
       "      <td>4</td>\n",
       "      <td>4</td>\n",
       "      <td>4</td>\n",
       "      <td>4</td>\n",
       "      <td>2</td>\n",
       "      <td>1</td>\n",
       "      <td>...</td>\n",
       "      <td>2</td>\n",
       "      <td>3</td>\n",
       "      <td>2</td>\n",
       "      <td>12</td>\n",
       "      <td>1.0</td>\n",
       "      <td>1</td>\n",
       "      <td>2</td>\n",
       "      <td>2</td>\n",
       "      <td>216.0</td>\n",
       "      <td>Extremely Severe</td>\n",
       "    </tr>\n",
       "    <tr>\n",
       "      <th>1</th>\n",
       "      <td>4</td>\n",
       "      <td>1</td>\n",
       "      <td>2</td>\n",
       "      <td>3</td>\n",
       "      <td>4</td>\n",
       "      <td>4</td>\n",
       "      <td>3</td>\n",
       "      <td>4</td>\n",
       "      <td>3</td>\n",
       "      <td>2</td>\n",
       "      <td>...</td>\n",
       "      <td>2</td>\n",
       "      <td>3</td>\n",
       "      <td>2</td>\n",
       "      <td>7</td>\n",
       "      <td>7.0</td>\n",
       "      <td>1</td>\n",
       "      <td>4</td>\n",
       "      <td>2</td>\n",
       "      <td>189.0</td>\n",
       "      <td>Severe</td>\n",
       "    </tr>\n",
       "    <tr>\n",
       "      <th>2</th>\n",
       "      <td>3</td>\n",
       "      <td>1</td>\n",
       "      <td>4</td>\n",
       "      <td>1</td>\n",
       "      <td>4</td>\n",
       "      <td>3</td>\n",
       "      <td>1</td>\n",
       "      <td>3</td>\n",
       "      <td>2</td>\n",
       "      <td>4</td>\n",
       "      <td>...</td>\n",
       "      <td>2</td>\n",
       "      <td>3</td>\n",
       "      <td>2</td>\n",
       "      <td>4</td>\n",
       "      <td>6.0</td>\n",
       "      <td>1</td>\n",
       "      <td>3</td>\n",
       "      <td>3</td>\n",
       "      <td>171.0</td>\n",
       "      <td>Moderate</td>\n",
       "    </tr>\n",
       "    <tr>\n",
       "      <th>3</th>\n",
       "      <td>2</td>\n",
       "      <td>3</td>\n",
       "      <td>2</td>\n",
       "      <td>1</td>\n",
       "      <td>3</td>\n",
       "      <td>3</td>\n",
       "      <td>4</td>\n",
       "      <td>2</td>\n",
       "      <td>3</td>\n",
       "      <td>3</td>\n",
       "      <td>...</td>\n",
       "      <td>1</td>\n",
       "      <td>3</td>\n",
       "      <td>2</td>\n",
       "      <td>4</td>\n",
       "      <td>7.0</td>\n",
       "      <td>1</td>\n",
       "      <td>5</td>\n",
       "      <td>2</td>\n",
       "      <td>153.0</td>\n",
       "      <td>Mild</td>\n",
       "    </tr>\n",
       "    <tr>\n",
       "      <th>4</th>\n",
       "      <td>2</td>\n",
       "      <td>2</td>\n",
       "      <td>3</td>\n",
       "      <td>4</td>\n",
       "      <td>4</td>\n",
       "      <td>2</td>\n",
       "      <td>4</td>\n",
       "      <td>4</td>\n",
       "      <td>4</td>\n",
       "      <td>3</td>\n",
       "      <td>...</td>\n",
       "      <td>3</td>\n",
       "      <td>2</td>\n",
       "      <td>2</td>\n",
       "      <td>10</td>\n",
       "      <td>1.0</td>\n",
       "      <td>1</td>\n",
       "      <td>4</td>\n",
       "      <td>3</td>\n",
       "      <td>212.0</td>\n",
       "      <td>Extremely Severe</td>\n",
       "    </tr>\n",
       "    <tr>\n",
       "      <th>...</th>\n",
       "      <td>...</td>\n",
       "      <td>...</td>\n",
       "      <td>...</td>\n",
       "      <td>...</td>\n",
       "      <td>...</td>\n",
       "      <td>...</td>\n",
       "      <td>...</td>\n",
       "      <td>...</td>\n",
       "      <td>...</td>\n",
       "      <td>...</td>\n",
       "      <td>...</td>\n",
       "      <td>...</td>\n",
       "      <td>...</td>\n",
       "      <td>...</td>\n",
       "      <td>...</td>\n",
       "      <td>...</td>\n",
       "      <td>...</td>\n",
       "      <td>...</td>\n",
       "      <td>...</td>\n",
       "      <td>...</td>\n",
       "      <td>...</td>\n",
       "    </tr>\n",
       "    <tr>\n",
       "      <th>39728</th>\n",
       "      <td>2</td>\n",
       "      <td>1</td>\n",
       "      <td>3</td>\n",
       "      <td>2</td>\n",
       "      <td>3</td>\n",
       "      <td>2</td>\n",
       "      <td>1</td>\n",
       "      <td>3</td>\n",
       "      <td>1</td>\n",
       "      <td>4</td>\n",
       "      <td>...</td>\n",
       "      <td>2</td>\n",
       "      <td>2</td>\n",
       "      <td>1</td>\n",
       "      <td>2</td>\n",
       "      <td>6.0</td>\n",
       "      <td>1</td>\n",
       "      <td>2</td>\n",
       "      <td>2</td>\n",
       "      <td>163.0</td>\n",
       "      <td>Moderate</td>\n",
       "    </tr>\n",
       "    <tr>\n",
       "      <th>39729</th>\n",
       "      <td>3</td>\n",
       "      <td>4</td>\n",
       "      <td>3</td>\n",
       "      <td>4</td>\n",
       "      <td>3</td>\n",
       "      <td>4</td>\n",
       "      <td>4</td>\n",
       "      <td>4</td>\n",
       "      <td>3</td>\n",
       "      <td>4</td>\n",
       "      <td>...</td>\n",
       "      <td>3</td>\n",
       "      <td>2</td>\n",
       "      <td>1</td>\n",
       "      <td>10</td>\n",
       "      <td>1.0</td>\n",
       "      <td>1</td>\n",
       "      <td>4</td>\n",
       "      <td>3</td>\n",
       "      <td>223.0</td>\n",
       "      <td>Extremely Severe</td>\n",
       "    </tr>\n",
       "    <tr>\n",
       "      <th>39730</th>\n",
       "      <td>2</td>\n",
       "      <td>1</td>\n",
       "      <td>2</td>\n",
       "      <td>1</td>\n",
       "      <td>1</td>\n",
       "      <td>1</td>\n",
       "      <td>1</td>\n",
       "      <td>1</td>\n",
       "      <td>2</td>\n",
       "      <td>1</td>\n",
       "      <td>...</td>\n",
       "      <td>3</td>\n",
       "      <td>2</td>\n",
       "      <td>2</td>\n",
       "      <td>7</td>\n",
       "      <td>3.0</td>\n",
       "      <td>2</td>\n",
       "      <td>3</td>\n",
       "      <td>5</td>\n",
       "      <td>128.0</td>\n",
       "      <td>Normal</td>\n",
       "    </tr>\n",
       "    <tr>\n",
       "      <th>39731</th>\n",
       "      <td>3</td>\n",
       "      <td>1</td>\n",
       "      <td>2</td>\n",
       "      <td>2</td>\n",
       "      <td>3</td>\n",
       "      <td>3</td>\n",
       "      <td>3</td>\n",
       "      <td>4</td>\n",
       "      <td>3</td>\n",
       "      <td>1</td>\n",
       "      <td>...</td>\n",
       "      <td>3</td>\n",
       "      <td>2</td>\n",
       "      <td>2</td>\n",
       "      <td>6</td>\n",
       "      <td>6.0</td>\n",
       "      <td>1</td>\n",
       "      <td>2</td>\n",
       "      <td>3</td>\n",
       "      <td>171.0</td>\n",
       "      <td>Moderate</td>\n",
       "    </tr>\n",
       "    <tr>\n",
       "      <th>39732</th>\n",
       "      <td>2</td>\n",
       "      <td>1</td>\n",
       "      <td>2</td>\n",
       "      <td>1</td>\n",
       "      <td>4</td>\n",
       "      <td>2</td>\n",
       "      <td>1</td>\n",
       "      <td>1</td>\n",
       "      <td>1</td>\n",
       "      <td>1</td>\n",
       "      <td>...</td>\n",
       "      <td>3</td>\n",
       "      <td>3</td>\n",
       "      <td>2</td>\n",
       "      <td>10</td>\n",
       "      <td>1.0</td>\n",
       "      <td>1</td>\n",
       "      <td>4</td>\n",
       "      <td>4</td>\n",
       "      <td>161.0</td>\n",
       "      <td>Moderate</td>\n",
       "    </tr>\n",
       "  </tbody>\n",
       "</table>\n",
       "<p>39733 rows × 62 columns</p>\n",
       "</div>"
      ],
      "text/plain": [
       "       Q1A  Q2A  Q3A  Q4A  Q5A  Q6A  Q7A  Q8A  Q9A  Q10A  ...  education  \\\n",
       "0        4    4    2    4    4    4    4    4    2     1  ...          2   \n",
       "1        4    1    2    3    4    4    3    4    3     2  ...          2   \n",
       "2        3    1    4    1    4    3    1    3    2     4  ...          2   \n",
       "3        2    3    2    1    3    3    4    2    3     3  ...          1   \n",
       "4        2    2    3    4    4    2    4    4    4     3  ...          3   \n",
       "...    ...  ...  ...  ...  ...  ...  ...  ...  ...   ...  ...        ...   \n",
       "39728    2    1    3    2    3    2    1    3    1     4  ...          2   \n",
       "39729    3    4    3    4    3    4    4    4    3     4  ...          3   \n",
       "39730    2    1    2    1    1    1    1    1    2     1  ...          3   \n",
       "39731    3    1    2    2    3    3    3    4    3     1  ...          3   \n",
       "39732    2    1    2    1    4    2    1    1    1     1  ...          3   \n",
       "\n",
       "       urban  gender  religion  race  married  familysize  age_group  \\\n",
       "0          3       2        12   1.0        1           2          2   \n",
       "1          3       2         7   7.0        1           4          2   \n",
       "2          3       2         4   6.0        1           3          3   \n",
       "3          3       2         4   7.0        1           5          2   \n",
       "4          2       2        10   1.0        1           4          3   \n",
       "...      ...     ...       ...   ...      ...         ...        ...   \n",
       "39728      2       1         2   6.0        1           2          2   \n",
       "39729      2       1        10   1.0        1           4          3   \n",
       "39730      2       2         7   3.0        2           3          5   \n",
       "39731      2       2         6   6.0        1           2          3   \n",
       "39732      3       2        10   1.0        1           4          4   \n",
       "\n",
       "       total_count            target  \n",
       "0            216.0  Extremely Severe  \n",
       "1            189.0            Severe  \n",
       "2            171.0          Moderate  \n",
       "3            153.0              Mild  \n",
       "4            212.0  Extremely Severe  \n",
       "...            ...               ...  \n",
       "39728        163.0          Moderate  \n",
       "39729        223.0  Extremely Severe  \n",
       "39730        128.0            Normal  \n",
       "39731        171.0          Moderate  \n",
       "39732        161.0          Moderate  \n",
       "\n",
       "[39733 rows x 62 columns]"
      ]
     },
     "execution_count": 2,
     "metadata": {},
     "output_type": "execute_result"
    }
   ],
   "source": [
    "import numpy as np\n",
    "import pandas as pd\n",
    "from matplotlib import pyplot as plt\n",
    "import seaborn as sns\n",
    "\n",
    "depression = pd.read_csv(\"final.csv\")\n",
    "depression"
   ]
  },
  {
   "cell_type": "code",
   "execution_count": 3,
   "metadata": {},
   "outputs": [],
   "source": [
    "target = depression[\"target\"]\n",
    "depression.drop([\"target\", \"total_count\"], axis=1, inplace=True)"
   ]
  },
  {
   "cell_type": "code",
   "execution_count": 4,
   "metadata": {},
   "outputs": [
    {
     "name": "stdout",
     "output_type": "stream",
     "text": [
      "x_train: (31786, 60), y_train: (31786,)\n",
      "x_test: (7947, 60), y_test: (7947,)\n"
     ]
    }
   ],
   "source": [
    "from sklearn.model_selection import train_test_split\n",
    "\n",
    "x_train, x_test, y_train, y_test = train_test_split(depression, target, test_size=0.2)\n",
    "\n",
    "print(f\"x_train: {x_train.shape}, y_train: {y_train.shape}\")\n",
    "print(f\"x_test: {x_test.shape}, y_test: {y_test.shape}\")"
   ]
  },
  {
   "cell_type": "code",
   "execution_count": 5,
   "metadata": {},
   "outputs": [],
   "source": [
    "from sklearn.preprocessing import StandardScaler, MinMaxScaler\n",
    "\n",
    "scaler = MinMaxScaler()\n",
    "\n",
    "x_train_scaled = scaler.fit_transform(x_train)\n",
    "x_test_scaled = scaler.transform(x_test)"
   ]
  },
  {
   "cell_type": "code",
   "execution_count": 10,
   "metadata": {},
   "outputs": [],
   "source": [
    "SEED = 42"
   ]
  },
  {
   "cell_type": "markdown",
   "metadata": {},
   "source": [
    "# random forest"
   ]
  },
  {
   "cell_type": "code",
   "execution_count": 11,
   "metadata": {},
   "outputs": [
    {
     "name": "stdout",
     "output_type": "stream",
     "text": [
      "Accuracy on the test set: 0.7871\n"
     ]
    },
    {
     "data": {
      "text/plain": [
       "['random_forest.pkl']"
      ]
     },
     "execution_count": 11,
     "metadata": {},
     "output_type": "execute_result"
    }
   ],
   "source": [
    "import joblib\n",
    "from sklearn.ensemble import RandomForestClassifier\n",
    "from sklearn.metrics import accuracy_score\n",
    "\n",
    "rnd_clf = RandomForestClassifier(n_estimators=100, n_jobs=-1)\n",
    "rnd_clf.fit(x_train_scaled, y_train)\n",
    "\n",
    "y_pred = rnd_clf.predict(x_test_scaled)\n",
    "\n",
    "accuracy = accuracy_score(y_test, y_pred)\n",
    "print(f\"Accuracy on the test set: {accuracy:.4f}\")\n",
    "joblib.dump(rnd_clf, \"random_forest.pkl\")"
   ]
  },
  {
   "cell_type": "markdown",
   "metadata": {},
   "source": [
    "# Improved Random Forest"
   ]
  },
  {
   "cell_type": "code",
   "execution_count": 12,
   "metadata": {},
   "outputs": [
    {
     "name": "stdout",
     "output_type": "stream",
     "text": [
      "Accuracy on the test set: 0.7897\n"
     ]
    },
    {
     "data": {
      "text/plain": [
       "['improved_random_forest_model.pkl']"
      ]
     },
     "execution_count": 12,
     "metadata": {},
     "output_type": "execute_result"
    }
   ],
   "source": [
    "from sklearn.model_selection import GridSearchCV\n",
    "from sklearn.ensemble import RandomForestClassifier\n",
    "from sklearn.metrics import accuracy_score\n",
    "import joblib\n",
    "import random\n",
    "\n",
    "\n",
    "param_grid = {\n",
    "    \"n_estimators\": [50, 100, 200],\n",
    "    \"max_depth\": [None, 10, 20],\n",
    "    \"min_samples_split\": [2, 5, 10],\n",
    "}\n",
    "\n",
    "rnd_clf = RandomForestClassifier(n_jobs=-1, random_state=SEED)\n",
    "\n",
    "grid_search = GridSearchCV(rnd_clf, param_grid, cv=5, scoring=\"accuracy\", n_jobs=-1)\n",
    "grid_search.fit(x_train_scaled, y_train)\n",
    "\n",
    "best_rnd_clf = grid_search.best_estimator_\n",
    "\n",
    "y_pred = best_rnd_clf.predict(x_test_scaled)\n",
    "\n",
    "accuracy = accuracy_score(y_test, y_pred)\n",
    "print(f\"Accuracy on the test set: {accuracy:.4f}\")\n",
    "\n",
    "joblib.dump(best_rnd_clf, \"improved_random_forest_model.pkl\")"
   ]
  },
  {
   "cell_type": "markdown",
   "metadata": {},
   "source": [
    "# XG BOOST\n"
   ]
  },
  {
   "cell_type": "code",
   "execution_count": 16,
   "metadata": {},
   "outputs": [
    {
     "name": "stdout",
     "output_type": "stream",
     "text": [
      "Accuracy on the test set: 0.7545\n",
      "Model saved as 'xgb_model.pkl'\n"
     ]
    }
   ],
   "source": [
    "import xgboost as xgb\n",
    "from sklearn.metrics import accuracy_score\n",
    "from sklearn.preprocessing import LabelEncoder\n",
    "import joblib\n",
    "\n",
    "label_encoder = LabelEncoder()\n",
    "label_encoder.fit(y_train)\n",
    "y_train_encoded = label_encoder.transform(y_train)\n",
    "y_test_encoded = label_encoder.transform(y_test)\n",
    "\n",
    "xgb_clf = xgb.XGBClassifier(\n",
    "    n_estimators=100, max_depth=3, learning_rate=0.1, random_state=SEED\n",
    ")\n",
    "xgb_clf.fit(x_train_scaled, y_train_encoded)\n",
    "\n",
    "y_pred_encoded = xgb_clf.predict(x_test_scaled)\n",
    "accuracy = accuracy_score(y_test_encoded, y_pred_encoded)\n",
    "print(f\"Accuracy on the test set: {accuracy:.4f}\")\n",
    "\n",
    "model_filename = \"xgb_model.pkl\"\n",
    "joblib.dump(xgb_clf, model_filename)\n",
    "print(f\"Model saved as '{model_filename}'\")"
   ]
  },
  {
   "cell_type": "markdown",
   "metadata": {},
   "source": [
    "# SVC"
   ]
  },
  {
   "cell_type": "code",
   "execution_count": 17,
   "metadata": {},
   "outputs": [
    {
     "name": "stdout",
     "output_type": "stream",
     "text": [
      "Mean Cross Validation Score: 0.9661\n",
      "Accuracy on the Test Set: 0.9684\n"
     ]
    },
    {
     "data": {
      "text/plain": [
       "['svm_model.pkl']"
      ]
     },
     "execution_count": 17,
     "metadata": {},
     "output_type": "execute_result"
    }
   ],
   "source": [
    "from sklearn.svm import SVC\n",
    "from sklearn.model_selection import cross_val_score\n",
    "from sklearn.metrics import accuracy_score\n",
    "import joblib\n",
    "\n",
    "SEED = 42\n",
    "\n",
    "svc_clf = SVC(random_state=SEED)\n",
    "svc_clf.fit(x_train_scaled, y_train)\n",
    "\n",
    "cross_score = cross_val_score(svc_clf, x_train_scaled, y_train, cv=5)\n",
    "mean_cross_score = cross_score.mean()\n",
    "\n",
    "y_pred = svc_clf.predict(x_test_scaled)\n",
    "test_accuracy = accuracy_score(y_test, y_pred)\n",
    "\n",
    "print(f\"Mean Cross Validation Score: {mean_cross_score:.4f}\")\n",
    "print(f\"Accuracy on the Test Set: {test_accuracy:.4f}\")\n",
    "\n",
    "joblib.dump(svc_clf, \"svm_model.pkl\")"
   ]
  }
 ],
 "metadata": {
  "kernelspec": {
   "display_name": "Python 3",
   "language": "python",
   "name": "python3"
  },
  "language_info": {
   "codemirror_mode": {
    "name": "ipython",
    "version": 3
   },
   "file_extension": ".py",
   "mimetype": "text/x-python",
   "name": "python",
   "nbconvert_exporter": "python",
   "pygments_lexer": "ipython3",
   "version": "3.10.0"
  },
  "orig_nbformat": 4
 },
 "nbformat": 4,
 "nbformat_minor": 2
}
